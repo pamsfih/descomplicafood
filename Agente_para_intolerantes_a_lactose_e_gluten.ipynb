{
  "nbformat": 4,
  "nbformat_minor": 0,
  "metadata": {
    "colab": {
      "provenance": [],
      "include_colab_link": true
    },
    "kernelspec": {
      "name": "python3",
      "display_name": "Python 3"
    },
    "language_info": {
      "name": "python"
    }
  },
  "cells": [
    {
      "cell_type": "markdown",
      "metadata": {
        "id": "view-in-github",
        "colab_type": "text"
      },
      "source": [
        "<a href=\"https://colab.research.google.com/github/pamsfih/descomplicafood/blob/main/Agente_para_intolerantes_a_lactose_e_gluten.ipynb\" target=\"_parent\"><img src=\"https://colab.research.google.com/assets/colab-badge.svg\" alt=\"Open In Colab\"/></a>"
      ]
    },
    {
      "cell_type": "code",
      "source": [
        "%pip -q install google-genai"
      ],
      "metadata": {
        "id": "UCCbECexLk_h"
      },
      "execution_count": 1,
      "outputs": []
    },
    {
      "cell_type": "code",
      "source": [
        "# Configura a API Key do Google Gemini\n",
        "\n",
        "import os\n",
        "from google.colab import userdata\n",
        "\n",
        "os.environ[\"\"] = userdata.get('') ## inclua sua chave da API"
      ],
      "metadata": {
        "id": "NfCqHo1tLk8P"
      },
      "execution_count": 2,
      "outputs": []
    },
    {
      "cell_type": "code",
      "source": [
        "# Configura o cliente da SDK do Gemini\n",
        "\n",
        "from google import genai\n",
        "\n",
        "client = genai.Client()\n",
        "\n",
        "MODEL_ID = \"gemini-2.0-flash\""
      ],
      "metadata": {
        "id": "bV4w0H5TLk5g"
      },
      "execution_count": 3,
      "outputs": []
    },
    {
      "cell_type": "code",
      "source": [
        "# Instalar Framework de agentes do Google ################################################\n",
        "!pip install -q google-adk"
      ],
      "metadata": {
        "colab": {
          "base_uri": "https://localhost:8080/"
        },
        "id": "a1eRPalxEnj7",
        "outputId": "b471ab26-473d-4326-a208-0f931e094043"
      },
      "execution_count": 4,
      "outputs": [
        {
          "output_type": "stream",
          "name": "stdout",
          "text": [
            "\u001b[?25l   \u001b[90m━━━━━━━━━━━━━━━━━━━━━━━━━━━━━━━━━━━━━━━━\u001b[0m \u001b[32m0.0/1.2 MB\u001b[0m \u001b[31m?\u001b[0m eta \u001b[36m-:--:--\u001b[0m\r\u001b[2K   \u001b[91m━━━━━━━━━━━━━━━━━━━━━━━━━━━━━━━━━━━━━━━\u001b[0m\u001b[91m╸\u001b[0m \u001b[32m1.2/1.2 MB\u001b[0m \u001b[31m48.4 MB/s\u001b[0m eta \u001b[36m0:00:01\u001b[0m\r\u001b[2K   \u001b[90m━━━━━━━━━━━━━━━━━━━━━━━━━━━━━━━━━━━━━━━━\u001b[0m \u001b[32m1.2/1.2 MB\u001b[0m \u001b[31m25.4 MB/s\u001b[0m eta \u001b[36m0:00:00\u001b[0m\n",
            "\u001b[?25h\u001b[?25l   \u001b[90m━━━━━━━━━━━━━━━━━━━━━━━━━━━━━━━━━━━━━━━━\u001b[0m \u001b[32m0.0/232.1 kB\u001b[0m \u001b[31m?\u001b[0m eta \u001b[36m-:--:--\u001b[0m\r\u001b[2K   \u001b[90m━━━━━━━━━━━━━━━━━━━━━━━━━━━━━━━━━━━━━━━━\u001b[0m \u001b[32m232.1/232.1 kB\u001b[0m \u001b[31m17.2 MB/s\u001b[0m eta \u001b[36m0:00:00\u001b[0m\n",
            "\u001b[?25h\u001b[?25l   \u001b[90m━━━━━━━━━━━━━━━━━━━━━━━━━━━━━━━━━━━━━━━━\u001b[0m \u001b[32m0.0/95.2 kB\u001b[0m \u001b[31m?\u001b[0m eta \u001b[36m-:--:--\u001b[0m\r\u001b[2K   \u001b[90m━━━━━━━━━━━━━━━━━━━━━━━━━━━━━━━━━━━━━━━━\u001b[0m \u001b[32m95.2/95.2 kB\u001b[0m \u001b[31m7.6 MB/s\u001b[0m eta \u001b[36m0:00:00\u001b[0m\n",
            "\u001b[?25h\u001b[?25l   \u001b[90m━━━━━━━━━━━━━━━━━━━━━━━━━━━━━━━━━━━━━━━━\u001b[0m \u001b[32m0.0/217.1 kB\u001b[0m \u001b[31m?\u001b[0m eta \u001b[36m-:--:--\u001b[0m\r\u001b[2K   \u001b[90m━━━━━━━━━━━━━━━━━━━━━━━━━━━━━━━━━━━━━━━━\u001b[0m \u001b[32m217.1/217.1 kB\u001b[0m \u001b[31m15.8 MB/s\u001b[0m eta \u001b[36m0:00:00\u001b[0m\n",
            "\u001b[?25h\u001b[?25l   \u001b[90m━━━━━━━━━━━━━━━━━━━━━━━━━━━━━━━━━━━━━━━━\u001b[0m \u001b[32m0.0/334.1 kB\u001b[0m \u001b[31m?\u001b[0m eta \u001b[36m-:--:--\u001b[0m\r\u001b[2K   \u001b[90m━━━━━━━━━━━━━━━━━━━━━━━━━━━━━━━━━━━━━━━━\u001b[0m \u001b[32m334.1/334.1 kB\u001b[0m \u001b[31m21.2 MB/s\u001b[0m eta \u001b[36m0:00:00\u001b[0m\n",
            "\u001b[?25h\u001b[?25l   \u001b[90m━━━━━━━━━━━━━━━━━━━━━━━━━━━━━━━━━━━━━━━━\u001b[0m \u001b[32m0.0/125.1 kB\u001b[0m \u001b[31m?\u001b[0m eta \u001b[36m-:--:--\u001b[0m\r\u001b[2K   \u001b[90m━━━━━━━━━━━━━━━━━━━━━━━━━━━━━━━━━━━━━━━━\u001b[0m \u001b[32m125.1/125.1 kB\u001b[0m \u001b[31m9.8 MB/s\u001b[0m eta \u001b[36m0:00:00\u001b[0m\n",
            "\u001b[2K   \u001b[90m━━━━━━━━━━━━━━━━━━━━━━━━━━━━━━━━━━━━━━━━\u001b[0m \u001b[32m65.8/65.8 kB\u001b[0m \u001b[31m5.1 MB/s\u001b[0m eta \u001b[36m0:00:00\u001b[0m\n",
            "\u001b[2K   \u001b[90m━━━━━━━━━━━━━━━━━━━━━━━━━━━━━━━━━━━━━━━━\u001b[0m \u001b[32m119.0/119.0 kB\u001b[0m \u001b[31m10.0 MB/s\u001b[0m eta \u001b[36m0:00:00\u001b[0m\n",
            "\u001b[2K   \u001b[90m━━━━━━━━━━━━━━━━━━━━━━━━━━━━━━━━━━━━━━━━\u001b[0m \u001b[32m194.9/194.9 kB\u001b[0m \u001b[31m14.4 MB/s\u001b[0m eta \u001b[36m0:00:00\u001b[0m\n",
            "\u001b[2K   \u001b[90m━━━━━━━━━━━━━━━━━━━━━━━━━━━━━━━━━━━━━━━━\u001b[0m \u001b[32m62.5/62.5 kB\u001b[0m \u001b[31m5.2 MB/s\u001b[0m eta \u001b[36m0:00:00\u001b[0m\n",
            "\u001b[2K   \u001b[90m━━━━━━━━━━━━━━━━━━━━━━━━━━━━━━━━━━━━━━━━\u001b[0m \u001b[32m103.3/103.3 kB\u001b[0m \u001b[31m8.5 MB/s\u001b[0m eta \u001b[36m0:00:00\u001b[0m\n",
            "\u001b[2K   \u001b[90m━━━━━━━━━━━━━━━━━━━━━━━━━━━━━━━━━━━━━━━━\u001b[0m \u001b[32m44.4/44.4 kB\u001b[0m \u001b[31m3.4 MB/s\u001b[0m eta \u001b[36m0:00:00\u001b[0m\n",
            "\u001b[2K   \u001b[90m━━━━━━━━━━━━━━━━━━━━━━━━━━━━━━━━━━━━━━━━\u001b[0m \u001b[32m72.0/72.0 kB\u001b[0m \u001b[31m5.8 MB/s\u001b[0m eta \u001b[36m0:00:00\u001b[0m\n",
            "\u001b[?25h"
          ]
        }
      ]
    },
    {
      "cell_type": "code",
      "execution_count": 5,
      "metadata": {
        "id": "aePV2bdfDeoW"
      },
      "outputs": [],
      "source": [
        "from google.adk.agents import Agent\n",
        "from google.adk.runners import Runner\n",
        "from google.adk.sessions import InMemorySessionService\n",
        "from google.adk.tools import google_search\n",
        "from google.genai import types  # Para criar conteúdos (Content e Part)\n",
        "from datetime import date\n",
        "import textwrap # Para formatar melhor a saída de texto\n",
        "from IPython.display import display, Markdown # Para exibir texto formatado no Colab\n",
        "import requests # Para fazer requisições HTTP\n",
        "import warnings\n",
        "\n",
        "warnings.filterwarnings(\"ignore\")"
      ]
    },
    {
      "cell_type": "code",
      "source": [
        "# Função auxiliar que envia uma mensagem para um agente via Runner e retorna a resposta final\n",
        "def call_agent(agent: Agent, message_text: str) -> str:\n",
        "    # Cria um serviço de sessão em memória\n",
        "    session_service = InMemorySessionService()\n",
        "    # Cria uma nova sessão (você pode personalizar os IDs conforme necessário)\n",
        "    session = session_service.create_session(app_name=agent.name, user_id=\"user1\", session_id=\"session1\")\n",
        "    # Cria um Runner para o agente\n",
        "    runner = Runner(agent=agent, app_name=agent.name, session_service=session_service)\n",
        "    # Cria o conteúdo da mensagem de entrada\n",
        "    content = types.Content(role=\"user\", parts=[types.Part(text=message_text)])\n",
        "\n",
        "    final_response = \"\"\n",
        "    # Itera assincronamente pelos eventos retornados durante a execução do agente\n",
        "    for event in runner.run(user_id=\"user1\", session_id=\"session1\", new_message=content):\n",
        "        if event.is_final_response():\n",
        "          for part in event.content.parts:\n",
        "            if part.text is not None:\n",
        "              final_response += part.text\n",
        "              final_response += \"\\n\"\n",
        "    return final_response"
      ],
      "metadata": {
        "id": "_xP4lWhsS5ko"
      },
      "execution_count": 6,
      "outputs": []
    },
    {
      "cell_type": "code",
      "source": [
        "# Função auxiliar para exibir texto formatado em Markdown no Colab\n",
        "def to_markdown(text):\n",
        "  text = text.replace('•', '  *')\n",
        "  return Markdown(textwrap.indent(text, '> ', predicate=lambda _: True))"
      ],
      "metadata": {
        "id": "8dosiodaxfFR"
      },
      "execution_count": 7,
      "outputs": []
    },
    {
      "cell_type": "code",
      "source": [
        "##########################################\n",
        "# --- Agente 1: Receptor e Buscador de conteúdos sobre intolerância a lactose, doença celíaca e intolerância a glúten --- #\n",
        "##########################################\n",
        "def agente_receptor_buscador(assunto):\n",
        "\n",
        "    receptor_buscador = Agent(\n",
        "        name=\"agente_receptor_buscador\",\n",
        "        model=\"gemini-2.0-flash\",\n",
        "        instruction=\"\"\"\n",
        "        Você é um guia alimentar especializado amigável em intolerância a lactose, doença celíaca e intolerância a glúten. Muitas pessoas que possuem esses tipos de restrição alimentar acabam se sentindo excluídas e tendo dificuldades\n",
        "        para encontrar informações confiáveis sobre dicas para lidar melhor com isso, receitas que podem ser feitas sem glúten e lactose, como se adaptar quando precisa sair ou viajar, entender o que são essas condições\n",
        "        e impactos e também alimentos que podem substituir. Você não substitui um médico ou nutricionista, no entanto, pode apoiar esses profissionais e as pessoas que possuem essas condições. Não precisa de saudação, vá direto para a resposta.\n",
        "\n",
        "        Suas tarefas são:\n",
        "\n",
        "        - Usar a ferramenta de busca do google (google_search) para encontrar conteúdos em artigos, blogs e outros meios que seja fontes idôneas e confiáveis.\n",
        "        - Priorizar sites que dizem respeito a área da saúde para auxiliar na confiabilidade do que será passado para as pessoas.\n",
        "        - Focar em no máximo 3 conteúdos sobre o assunto para não ficar extenso.\n",
        "        - Formatar a resposta de acordo com os temas de maneira organizada e com espaçamentos.\n",
        "        - Inclua links úteis (receitas, artigos, vídeos) se encontrar, formatados como: `[Título do Link](URL do Link)`\n",
        "        - Garanta que os links realmente funcionam.\n",
        "        - Oferecer dicas práticas para o dia a dia, como ler rótulos, evitar contaminação cruzada, viajar com restrições alimentares.\n",
        "\n",
        "        **Exemplo de Formato:**\n",
        "\n",
        "        `<INFO_FUNDAMENTAL>\n",
        "        O glúten é uma proteína encontrada no trigo...\n",
        "        A lactose é um tipo de açúcar encontrado no leite...\n",
        "        Sintomas: inchaço, dor abdominal... (Lembre-se: NÃO faça diagnóstico!)\n",
        "        Rótulos: procure por 'glúten', 'lactose', 'caseína'...\n",
        "\n",
        "        **Para saber mais, é só acessar os links:**\n",
        "\n",
        "        - [Receitas sem Glúten](https://receitas.com/sem-gluten)\n",
        "        - [Vídeo sobre Lactose](http://youtube.com/lactose)\n",
        "        \"\"\",\n",
        "        description=\"Agente que busca informações no Google\",\n",
        "        tools=[google_search]\n",
        "    )\n",
        "\n",
        "    entrada_do_agente_buscador = f\"Assunto: {assunto}\"\n",
        "\n",
        "    informacoes = call_agent(receptor_buscador, entrada_do_agente_buscador)\n",
        "    return informacoes"
      ],
      "metadata": {
        "id": "o8bqIfi_DyH8"
      },
      "execution_count": 77,
      "outputs": []
    },
    {
      "cell_type": "code",
      "source": [
        "################################################\n",
        "# --- Agente 2: Exibidor das informações encontradas --- #\n",
        "################################################\n",
        "def agente_exibidor(assunto, informacoes):\n",
        "    exibidor = Agent(\n",
        "        name=\"agente_exibidor\",\n",
        "        model=\"gemini-2.0-flash\",\n",
        "        # Inserir as instruções do Agente Exibidor #################################################\n",
        "        instruction=\"\"\"\n",
        "        Você é um apresentador de informações e também especialista em linguagem simples para a área da saúde e sua função é traduzir o que for técnico demais em informação amigável para as pessoas. Você é empático\n",
        "        e sabe que as pessoas com restrições alimentares passam por algumas dificuldades na rotina, principalmente quem acabou de descobrir que possui essas restrições e não sabe como se adaptar. Você jamais substituirá\n",
        "        um médico ou nutricionista, mas pode apoiar as pessoas e os próprios profissionais a garantir que as pessoas tenham acesso a informação e se adaptem melhor.\n",
        "\n",
        "        - Utilize linguagem simples para falar com essas pessoas e tenha um tom orientativo, usando termos conhecidos.\n",
        "        - Não seja formal, imagine que você conversa com pessoas de várias idades e leigas no assunto.\n",
        "        - Não precisa de saudação, vá direto para a resposta.\n",
        "        - Use poucos emojis, esse assunto é considerado mais sensível para algumas pessoas. Pense em acessibilidade jamais usando emojis como subsituto de bullet points,\n",
        "        nem use mais de um emoji seguido.\n",
        "        - Evite textos longos que cansam as pessoas, então seja objetivo, mas esteja próximo da pessoa.\n",
        "        - Use Markdown para organizar o texto (títulos, listas).\n",
        "        - Use HTML para criar links clicáveis.\n",
        "        - Deixe a resposta visualmente amigável e fácil de ler, pense na hierarquia da informação.\n",
        "        - Incentive o usuário a explorar os links e aprender mais!\n",
        "        - De preferência, deixe os títulos em negrito e não use itálico.\n",
        "        - Não use textos longos que dificultam o entendimento e acabam sendo cansativos, só responda o que é a pessoa perguntou.\n",
        "        - Prioriza usar listas para facilitar a leitura.\n",
        "        - Seja criativo e use uma linguagem que motive o usuário a aprender mais e a se sentir melhor!\n",
        "        - Nos títulos comece com letra maiúscula e continue com minúscula.\n",
        "        - Seja gentil e bem humorado, mas não faça piadas.\n",
        "\n",
        "        Exemplo de resposta:\n",
        "\n",
        "        ## O que é intolerância à lactose? 🥛\n",
        "\n",
        "        A intolerância à lactose é a dificuldade em digerir a lactose, um tipo de açúcar encontrado no leite e em outros produtos lácteos.\n",
        "\n",
        "        Exemplo de como usar maiúsculas e minúscula em lista:\n",
        "\n",
        "        Como essa contaminação acontece?\n",
        "\n",
        "        Direta: alimentos crus encostam em alimentos prontos para comer. Por exemplo, você corta um frango cru e, sem lavar a faca, corta uma abobrinha para salada.\n",
        "        Indireta: acontece quando usamos utensílios, superfícies ou mãos sujas. Por exemplo, usamos a mesma tábua para cortar queijo e carne sem lavar entre os usos.\n",
        "\n",
        "        ---------------\n",
        "\n",
        "        Outro exemplo:\n",
        "\n",
        "        Pesquise restaurantes: antes de sair, procure restaurantes que ofereçam opções sem lactose ou com alternativas para intolerantes.\n",
        "\n",
        "        **Para saber mais, é só acessar os links:**\n",
        "\n",
        "        * [Receitas sem glúten](https://www.exemplo.com/receitas-sem-gluten)\n",
        "        * [Onde encontrar produtos sem lactose](https://www.exemplo.com/produtos-sem-lactose)\n",
        "        \"\"\",\n",
        "\n",
        "        description=\"Agente que exibe as respostas\",\n",
        "        tools=[google_search]\n",
        "    )\n",
        "\n",
        "    entrada_do_agente_exibidor = f\"Assunto:{assunto}\\nInformações: {informacoes}\"\n",
        "\n",
        "    resposta_exibida = call_agent(exibidor, entrada_do_agente_exibidor)\n",
        "    return resposta_exibida"
      ],
      "metadata": {
        "id": "w9luDsQUkfWq"
      },
      "execution_count": 81,
      "outputs": []
    },
    {
      "cell_type": "code",
      "source": [
        "# Interagir com o bot\n",
        "\n",
        "print(\"Iniciando o Descomplica Food: Guia de intolerância a lactose e glúten 🥬\")\n",
        "print (\"\"\"\\nEu sou o Leo e estou aqui para te ajudar a lidar melhor com as restrições alimentares. Você pode ficar a vontade para fazer perguntas sobre:\n",
        "\n",
        "- O que é glúten e lactose\n",
        "- Sintomas comuns de intolerância\n",
        "- Dicas práticas para identificar a presença de glúten e lactose em rótulos de alimentos, incluindo os termos mais comuns a serem observados\n",
        "- Substituições e alternativas ao glúten e lactose\n",
        "- Dicas de alimentação fora de casa\n",
        "\n",
        "Ah, sempre consulte com uma pessoa nutricionista ou médica para ter um diagnóstico preciso e orientações para o seu caso específico. Cada organismo reage de uma maneira, mas é possível viver normal. 😊\n",
        "\"\"\"),\n",
        "\n",
        "# --- Obter o assunto do usuário ---\n",
        "assunto = input(\"Me conta: o que você gostaria de saber? \")\n",
        "\n",
        "# Lógica do sistema de agentes ######\n",
        "\n",
        "if not assunto:\n",
        "    print(\"Você esqueceu de digitar a sua dúvida!\")\n",
        "else:\n",
        "    print(f\"\\nVamos falar sobre: {assunto}\")\n",
        "\n",
        "    informacoes = agente_receptor_buscador(assunto)\n",
        "    print(\"\\n--- 📝 Resultado do Agente 1 (Receptor e Buscador) ---\\n\")\n",
        "    display(to_markdown(informacoes))\n",
        "    print(\"--------------------------------------------------------------\")\n",
        "\n",
        "    resposta_exibida = agente_exibidor(assunto, informacoes)\n",
        "    print(\"\\n--- 📝 Resultado do Agente 2 (Exibidor) ---\\n\")\n",
        "    display(to_markdown(resposta_exibida))\n",
        "    print(\"--------------------------------------------------------------\")"
      ],
      "metadata": {
        "colab": {
          "base_uri": "https://localhost:8080/",
          "height": 1000
        },
        "id": "0MNBKn80knVk",
        "outputId": "c9625675-60b7-4df9-8a43-9cdb13cb3fe1"
      },
      "execution_count": 82,
      "outputs": [
        {
          "output_type": "stream",
          "name": "stdout",
          "text": [
            "Iniciando o Descomplica Food: Guia de intolerância a lactose e glúten 🥬\n",
            "\n",
            "Eu sou o Leo e estou aqui para te ajudar a lidar melhor com as restrições alimentares. Você pode ficar a vontade para fazer perguntas sobre:\n",
            "\n",
            "- O que é glúten e lactose\n",
            "- Sintomas comuns de intolerância\n",
            "- Dicas práticas para identificar a presença de glúten e lactose em rótulos de alimentos, incluindo os termos mais comuns a serem observados\n",
            "- Substituições e alternativas ao glúten e lactose\n",
            "- Dicas de alimentação fora de casa\n",
            "\n",
            "Ah, sempre consulte com uma pessoa nutricionista ou médica para ter um diagnóstico preciso e orientações para o seu caso específico. Cada organismo reage de uma maneira, mas é possível viver normal. 😊\n",
            "\n",
            "Me conta: o que você gostaria de saber? o que é gluten\n",
            "\n",
            "Vamos falar sobre: o que é gluten\n",
            "\n",
            "--- 📝 Resultado do Agente 1 (Receptor e Buscador) ---\n",
            "\n"
          ]
        },
        {
          "output_type": "display_data",
          "data": {
            "text/plain": [
              "<IPython.core.display.Markdown object>"
            ],
            "text/markdown": "> O glúten é um conjunto de proteínas (gliadina e glutenina) encontrado em cereais como trigo, centeio, cevada e malte. Ele age como uma \"cola\", proporcionando elasticidade e viscosidade a massas e outros alimentos.\n> \n> **Para entender melhor:**\n> \n> *   O glúten é responsável pela textura macia e elástica de muitos alimentos à base de grãos.\n> *   A maioria das pessoas pode consumir glúten sem problemas, mas algumas condições médicas exigem sua restrição.\n> \n> **Alimentos que contêm glúten:**\n> \n> *   Pães, bolos, biscoitos, massas, cervejas, entre outros.\n> *   É importante ler os rótulos dos alimentos, pois o glúten pode estar presente em ingredientes como temperos industrializados, molhos e até alguns queijos.\n> \n> **Impactos e condições relacionadas ao glúten:**\n> \n> *   **Doença Celíaca:** Reação autoimune grave que danifica o intestino delgado.\n> *   **Sensibilidade ao Glúten Não Celíaca:** Causa sintomas semelhantes aos da doença celíaca, mas sem os mesmos danos intestinais.\n> *   **Alergia ao Trigo:** Intolerância ao trigo, não necessariamente à proteína do glúten em si.\n> \n> **Substituições e alternativas:**\n> \n> *   Farinhas de arroz, batata, soja, amaranto, quinoa, trigo sarraceno, feijão branco, farinha de milho, polvilho doce e azedo e tapioca são opções sem glúten para substituir a farinha de trigo.\n> \n> **Dicas Importantes:**\n> \n> *   **Rótulos:** Sempre verifique os rótulos dos alimentos para identificar a presença de glúten.\n> *   **Contaminação Cruzada:** Tenha cuidado com a contaminação cruzada durante o preparo dos alimentos, especialmente se você tem doença celíaca ou sensibilidade ao glúten.\n> *   **Aveia:** Nem toda aveia é livre de glúten, certifique-se de que o produto seja certificado como tal.\n> *   **Moderação:** Mesmo alimentos sem glúten podem ser calóricos, portanto, consuma-os com moderação.\n> \n> **Links úteis:**\n> \n> *   [Doença Celíaca e Dietas sem glúten](https://www.nutrimento.pt/noticias/doenca-celiaca-e-dietas-sem-gluten/)\n> *   [Dieta Isenta de glúten](https://apceliacos.pt/dieta-isenta-de-gluten/)\n> *   [Receitas sem Glúten](https://www.nestle.pt/receitas/sem-gluten)\n> \n"
          },
          "metadata": {}
        },
        {
          "output_type": "stream",
          "name": "stdout",
          "text": [
            "--------------------------------------------------------------\n",
            "\n",
            "--- 📝 Resultado do Agente 2 (Exibidor) ---\n",
            "\n"
          ]
        },
        {
          "output_type": "display_data",
          "data": {
            "text/plain": [
              "<IPython.core.display.Markdown object>"
            ],
            "text/markdown": "> ## Entendendo o que é glúten 🤔\n> \n> O glúten é um grupo de proteínas, como a gliadina e a glutenina, encontrado em grãos como trigo, centeio, cevada e malte. Ele funciona como uma \"cola\", dando elasticidade e viscosidade a massas e outros alimentos.\n> \n> *   É ele que deixa pães e bolos fofinhos e elásticos!\n> *   A maioria das pessoas não tem problemas em consumir glúten, mas algumas precisam evitar por causa de condições médicas.\n> \n> ### Onde o glúten se esconde? 🌾\n> \n> *   Pães, bolos, biscoitos, massas e cervejas são alguns exemplos.\n> *   Fique de olho nos rótulos! O glúten pode estar em temperos, molhos e até em alguns queijos.\n> \n> ### O glúten pode ser um problema? ⚠️\n> \n> *   **Doença Celíaca:** É uma reação autoimune que prejudica o intestino delgado.\n> *   **Sensibilidade ao Glúten Não Celíaca:** Causa sintomas parecidos com a doença celíaca, mas sem danificar o intestino.\n> *   **Alergia ao Trigo:** É uma intolerância ao trigo, e nem sempre é causada pelo glúten em si.\n> \n> ### Como substituir o glúten? 🔄\n> \n> *   Farinhas de arroz, batata, soja, amaranto, quinoa, trigo sarraceno, feijão branco, farinha de milho, polvilho doce e azedo e tapioca são ótimas opções para substituir a farinha de trigo.\n> \n> ### Dicas importantes para o dia a dia 💡\n> \n> *   **Sempre leia os rótulos** dos alimentos para verificar se contêm glúten.\n> *   **Cuidado com a contaminação cruzada** ao preparar alimentos, especialmente se você tem doença celíaca ou sensibilidade ao glúten.\n> *   **Verifique se a aveia é certificada** como livre de glúten.\n> *   **Moderação é a chave!** Mesmo os alimentos sem glúten podem ter muitas calorias.\n> \n> **Para saber mais, acesse os links:**\n> \n> *   [Doença Celíaca e Dietas sem glúten](https://www.nutrimento.pt/noticias/doenca-celiaca-e-dietas-sem-gluten/)\n> *   [Dieta Isenta de glúten](https://apceliacos.pt/dieta-isenta-de-gluten/)\n> *   [Receitas sem Glúten](https://www.nestle.pt/receitas/sem-gluten)\n> \n"
          },
          "metadata": {}
        },
        {
          "output_type": "stream",
          "name": "stdout",
          "text": [
            "--------------------------------------------------------------\n"
          ]
        }
      ]
    }
  ]
}